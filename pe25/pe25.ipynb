{
 "cells": [
  {
   "cell_type": "code",
   "execution_count": 30,
   "metadata": {},
   "outputs": [
    {
     "name": "stdout",
     "output_type": "stream",
     "text": [
      "9567\n",
      "9567\n"
     ]
    }
   ],
   "source": [
    "from math import sqrt, log10, ceil\n",
    "limit = 2000 # first fibonacci to thousand digits\n",
    "\n",
    "fib = [1,1]\n",
    "\n",
    "#for i in range(3,10000):\n",
    "i = 3\n",
    "while(True):\n",
    "    newFib = fib[-1] + fib[-2]\n",
    "    fib.append(newFib)\n",
    "    if (len(str(fib[-1])) >= limit):\n",
    "        print(i)\n",
    "        break\n",
    "    i += 1\n",
    "    \n",
    "# elegant solution\n",
    "\n",
    "phi = 0.5*(1+sqrt(5))\n",
    "sol = ((limit-1) + 0.5*log10(5)) / log10(phi)\n",
    "print(ceil(sol))"
   ]
  },
  {
   "cell_type": "code",
   "execution_count": 20,
   "metadata": {},
   "outputs": [
    {
     "data": {
      "text/plain": [
       "165580141"
      ]
     },
     "execution_count": 20,
     "metadata": {},
     "output_type": "execute_result"
    }
   ],
   "source": [
    "fib[40]"
   ]
  },
  {
   "cell_type": "code",
   "execution_count": null,
   "metadata": {},
   "outputs": [],
   "source": []
  }
 ],
 "metadata": {
  "kernelspec": {
   "display_name": "Python 3",
   "language": "python",
   "name": "python3"
  },
  "language_info": {
   "codemirror_mode": {
    "name": "ipython",
    "version": 3
   },
   "file_extension": ".py",
   "mimetype": "text/x-python",
   "name": "python",
   "nbconvert_exporter": "python",
   "pygments_lexer": "ipython3",
   "version": "3.7.1"
  }
 },
 "nbformat": 4,
 "nbformat_minor": 2
}
