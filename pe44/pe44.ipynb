{
 "cells": [
  {
   "cell_type": "code",
   "execution_count": 19,
   "metadata": {},
   "outputs": [],
   "source": [
    "# create pentagonal numbers\n",
    "limit = 10000\n",
    "pentNums = [1]\n",
    "for i in range(2,limit+1):\n",
    "    pentNums.append(pentNums[-1]+3*i-2)\n",
    "pSet = set(pentNums)"
   ]
  },
  {
   "cell_type": "code",
   "execution_count": 21,
   "metadata": {},
   "outputs": [
    {
     "name": "stdout",
     "output_type": "stream",
     "text": [
      "7042750,1560090\n",
      "HEUREKA\n",
      "5482660\n"
     ]
    }
   ],
   "source": [
    "for i in range(1,limit):\n",
    "    for j in range(1,i+1):\n",
    "        summ = pentNums[i] + pentNums[j]\n",
    "        diff = pentNums[i] - pentNums[j]\n",
    "        if ((summ in pSet) and (abs(diff) in pSet)):\n",
    "            print(\"{},{}\".format(pentNums[i],pentNums[j]))\n",
    "            print(\"HEUREKA\")\n",
    "            print(abs(diff))"
   ]
  },
  {
   "cell_type": "code",
   "execution_count": 25,
   "metadata": {},
   "outputs": [],
   "source": [
    "import math"
   ]
  },
  {
   "cell_type": "code",
   "execution_count": 31,
   "metadata": {},
   "outputs": [
    {
     "name": "stdout",
     "output_type": "stream",
     "text": [
      "TRIANGLE\n"
     ]
    }
   ],
   "source": [
    "nt = 35\n",
    "if (math.sqrt(1+24*nt) == int(math.sqrt(1+24*nt))):\n",
    "    print(\"TRIANGLE\")"
   ]
  },
  {
   "cell_type": "code",
   "execution_count": null,
   "metadata": {},
   "outputs": [],
   "source": []
  },
  {
   "cell_type": "code",
   "execution_count": null,
   "metadata": {},
   "outputs": [],
   "source": []
  }
 ],
 "metadata": {
  "kernelspec": {
   "display_name": "Python 3",
   "language": "python",
   "name": "python3"
  },
  "language_info": {
   "codemirror_mode": {
    "name": "ipython",
    "version": 3
   },
   "file_extension": ".py",
   "mimetype": "text/x-python",
   "name": "python",
   "nbconvert_exporter": "python",
   "pygments_lexer": "ipython3",
   "version": "3.7.3"
  }
 },
 "nbformat": 4,
 "nbformat_minor": 2
}
