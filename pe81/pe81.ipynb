{
 "cells": [
  {
   "cell_type": "code",
   "execution_count": 1,
   "metadata": {},
   "outputs": [],
   "source": [
    "import math\n",
    "matrix = []\n",
    "f = open('p081_matrix.txt')\n",
    "lines = f.readlines()"
   ]
  },
  {
   "cell_type": "code",
   "execution_count": 5,
   "metadata": {},
   "outputs": [],
   "source": [
    "line = lines[0]\n",
    "entries = line.split(',')    "
   ]
  },
  {
   "cell_type": "code",
   "execution_count": 8,
   "metadata": {
    "collapsed": true
   },
   "outputs": [
    {
     "data": {
      "text/plain": [
       "[4445,\n",
       " 2697,\n",
       " 5115,\n",
       " 718,\n",
       " 2209,\n",
       " 2212,\n",
       " 654,\n",
       " 4348,\n",
       " 3079,\n",
       " 6821,\n",
       " 7668,\n",
       " 3276,\n",
       " 8874,\n",
       " 4190,\n",
       " 3785,\n",
       " 2752,\n",
       " 9473,\n",
       " 7817,\n",
       " 9137,\n",
       " 496,\n",
       " 7338,\n",
       " 3434,\n",
       " 7152,\n",
       " 4355,\n",
       " 4552,\n",
       " 7917,\n",
       " 7827,\n",
       " 2460,\n",
       " 2350,\n",
       " 691,\n",
       " 3514,\n",
       " 5880,\n",
       " 3145,\n",
       " 7633,\n",
       " 7199,\n",
       " 3783,\n",
       " 5066,\n",
       " 7487,\n",
       " 3285,\n",
       " 1084,\n",
       " 8985,\n",
       " 760,\n",
       " 872,\n",
       " 8609,\n",
       " 8051,\n",
       " 1134,\n",
       " 9536,\n",
       " 5750,\n",
       " 9716,\n",
       " 9371,\n",
       " 7619,\n",
       " 5617,\n",
       " 275,\n",
       " 9721,\n",
       " 2997,\n",
       " 2698,\n",
       " 1887,\n",
       " 8825,\n",
       " 6372,\n",
       " 3014,\n",
       " 2113,\n",
       " 7122,\n",
       " 7050,\n",
       " 6775,\n",
       " 5948,\n",
       " 2758,\n",
       " 1219,\n",
       " 3539,\n",
       " 348,\n",
       " 7989,\n",
       " 2735,\n",
       " 9862,\n",
       " 1263,\n",
       " 8089,\n",
       " 6401,\n",
       " 9462,\n",
       " 3168,\n",
       " 2758,\n",
       " 3748,\n",
       " 5870]"
      ]
     },
     "execution_count": 8,
     "metadata": {},
     "output_type": "execute_result"
    }
   ],
   "source": [
    "list(map(int,entries))"
   ]
  },
  {
   "cell_type": "code",
   "execution_count": 9,
   "metadata": {},
   "outputs": [],
   "source": [
    "for line in lines:\n",
    "    entries = line.split(',')\n",
    "    matrix.append(list(map(int,entries)))"
   ]
  },
  {
   "cell_type": "code",
   "execution_count": 21,
   "metadata": {},
   "outputs": [],
   "source": [
    "# sum last row\n",
    "dim = len(matrix)\n",
    "for i in range(dim-2,-1,-1):\n",
    "    matrix[dim-1][i] += matrix[dim-1][i+1]"
   ]
  },
  {
   "cell_type": "code",
   "execution_count": 22,
   "metadata": {},
   "outputs": [],
   "source": [
    "# sum last col\n",
    "for i in range(dim-2,-1,-1):\n",
    "    matrix[i][dim-1] += matrix[i+1][dim-1]"
   ]
  },
  {
   "cell_type": "code",
   "execution_count": 24,
   "metadata": {},
   "outputs": [],
   "source": [
    "# sum rest\n",
    "\n",
    "for row in range(dim-2,-1,-1):\n",
    "    for col in range(dim-2,-1,-1):\n",
    "        matrix[row][col] += min(matrix[row+1][col],matrix[row][col+1])"
   ]
  },
  {
   "cell_type": "code",
   "execution_count": 25,
   "metadata": {},
   "outputs": [
    {
     "data": {
      "text/plain": [
       "427337"
      ]
     },
     "execution_count": 25,
     "metadata": {},
     "output_type": "execute_result"
    }
   ],
   "source": [
    "matrix[0][0]"
   ]
  },
  {
   "cell_type": "code",
   "execution_count": null,
   "metadata": {},
   "outputs": [],
   "source": []
  }
 ],
 "metadata": {
  "kernelspec": {
   "display_name": "Python 3",
   "language": "python",
   "name": "python3"
  },
  "language_info": {
   "codemirror_mode": {
    "name": "ipython",
    "version": 3
   },
   "file_extension": ".py",
   "mimetype": "text/x-python",
   "name": "python",
   "nbconvert_exporter": "python",
   "pygments_lexer": "ipython3",
   "version": "3.7.3"
  }
 },
 "nbformat": 4,
 "nbformat_minor": 2
}
