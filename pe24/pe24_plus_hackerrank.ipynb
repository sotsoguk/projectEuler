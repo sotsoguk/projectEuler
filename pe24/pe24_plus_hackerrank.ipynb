{
 "cells": [
  {
   "cell_type": "code",
   "execution_count": 27,
   "metadata": {},
   "outputs": [],
   "source": [
    "from math import factorial\n",
    "limit = 1000000\n",
    "nums = list(range(0,10))"
   ]
  },
  {
   "cell_type": "code",
   "execution_count": 28,
   "metadata": {},
   "outputs": [
    {
     "name": "stdout",
     "output_type": "stream",
     "text": [
      "! 2\n",
      "725761\n",
      "! 7\n",
      "967681\n",
      "! 8\n",
      "997921\n",
      "! 3\n",
      "999361\n",
      "! 9\n",
      "999961\n",
      "! 1\n",
      "999985\n",
      "! 5\n",
      "999997\n",
      "! 4\n",
      "999999\n",
      "! 6\n",
      "1000000\n",
      "! 0\n",
      "1000000\n",
      "2783915460\n"
     ]
    }
   ],
   "source": [
    "pos = 1\n",
    "solution = \"\"\n",
    "for i in range(10,0,-1):\n",
    "    incr = factorial(i-1)\n",
    "    # print(incr)\n",
    "    t = (limit - pos) // incr\n",
    "    pos = pos + incr * t\n",
    "    digit = nums[t]\n",
    "    nums.remove(digit)\n",
    "    nums.sort\n",
    "    solution += (str(digit))\n",
    "    print(\"!\", digit)\n",
    "    \n",
    "    print(pos)\n",
    "\n",
    "print(solution)"
   ]
  },
  {
   "cell_type": "code",
   "execution_count": 37,
   "metadata": {},
   "outputs": [
    {
     "name": "stdout",
     "output_type": "stream",
     "text": [
      "2783915460\n"
     ]
    }
   ],
   "source": [
    "from math import factorial\n",
    "limit = 1000000\n",
    "nums = list(range(0,10))\n",
    "pos = 1\n",
    "solution = \"\"\n",
    "for i in range(9,-1,-1):\n",
    "    incr = factorial(i)\n",
    "    t = (limit - pos) // incr\n",
    "    pos += incr * t\n",
    "    digit = nums.pop(t)\n",
    "    solution += (str(digit))\n",
    "\n",
    "print(solution)"
   ]
  },
  {
   "cell_type": "code",
   "execution_count": 40,
   "metadata": {},
   "outputs": [
    {
     "name": "stdout",
     "output_type": "stream",
     "text": [
      "abcdefghmiklj\n"
     ]
    }
   ],
   "source": [
    "from math import factorial\n",
    "\n",
    "limit = 100\n",
    "nums = ['a','b','c','d','e','f','g','h','i','j','k','l','m']\n",
    "pos = 1\n",
    "solution = \"\"\n",
    "for i in range(12,-1,-1):\n",
    "    incr = factorial(i)\n",
    "    t = (limit - pos) // incr\n",
    "    pos += incr * t\n",
    "    digit = nums.pop(t)\n",
    "    solution += (str(digit))\n",
    "\n",
    "print(solution)"
   ]
  },
  {
   "cell_type": "code",
   "execution_count": null,
   "metadata": {},
   "outputs": [],
   "source": []
  }
 ],
 "metadata": {
  "kernelspec": {
   "display_name": "Python 3",
   "language": "python",
   "name": "python3"
  },
  "language_info": {
   "codemirror_mode": {
    "name": "ipython",
    "version": 3
   },
   "file_extension": ".py",
   "mimetype": "text/x-python",
   "name": "python",
   "nbconvert_exporter": "python",
   "pygments_lexer": "ipython3",
   "version": "3.7.1"
  }
 },
 "nbformat": 4,
 "nbformat_minor": 2
}
