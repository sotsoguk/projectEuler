{
 "cells": [
  {
   "cell_type": "code",
   "execution_count": 1,
   "metadata": {},
   "outputs": [],
   "source": [
    "import math"
   ]
  },
  {
   "cell_type": "code",
   "execution_count": 37,
   "metadata": {},
   "outputs": [],
   "source": [
    "def isTriangle(n):\n",
    "    if (n<1):\n",
    "        return false\n",
    "    d = 1+8*n\n",
    "    return (math.sqrt(d) == int (math.sqrt(d)))\n",
    "\n",
    "def isPentagon(n):\n",
    "    if (n<1):\n",
    "        return false\n",
    "    d = 1+24*n\n",
    "    dd = math.sqrt(d)\n",
    "    return ( dd == int(dd) and ((1+int(dd)) % 6 == 0))\n",
    "\n",
    "def isHexagonal(n):\n",
    "    if (n<1):\n",
    "        return false\n",
    "    d = 1+8*n\n",
    "    return (math.sqrt(d) == int (math.sqrt(d)))\n",
    "\n",
    "def numTriangle(n):\n",
    "    if (n<1 or not isTriangle(n)):\n",
    "        return -1\n",
    "    return int((-1 + math.sqrt(1+8*n))/2)"
   ]
  },
  {
   "cell_type": "code",
   "execution_count": 39,
   "metadata": {},
   "outputs": [
    {
     "data": {
      "text/plain": [
       "False"
      ]
     },
     "execution_count": 39,
     "metadata": {},
     "output_type": "execute_result"
    }
   ],
   "source": [
    "isPentagon(15)"
   ]
  },
  {
   "cell_type": "code",
   "execution_count": 40,
   "metadata": {},
   "outputs": [
    {
     "name": "stdout",
     "output_type": "stream",
     "text": [
      "Found: H_143 = 40755\n",
      "Found: H_27693 = 1533776805\n"
     ]
    }
   ],
   "source": [
    "limit = 100000\n",
    "h = 1\n",
    "\n",
    "for i in range(2,limit):\n",
    "    h = h + 4*i - 3\n",
    "    if (isTriangle(h) and isPentagon(h)):\n",
    "        print(\"Found: H_{} = {}\".format(i,h))"
   ]
  },
  {
   "cell_type": "code",
   "execution_count": 21,
   "metadata": {},
   "outputs": [
    {
     "data": {
      "text/plain": [
       "True"
      ]
     },
     "execution_count": 21,
     "metadata": {},
     "output_type": "execute_result"
    }
   ],
   "source": [
    "isPentagon(15)"
   ]
  },
  {
   "cell_type": "code",
   "execution_count": null,
   "metadata": {},
   "outputs": [],
   "source": []
  }
 ],
 "metadata": {
  "kernelspec": {
   "display_name": "Python 3",
   "language": "python",
   "name": "python3"
  },
  "language_info": {
   "codemirror_mode": {
    "name": "ipython",
    "version": 3
   },
   "file_extension": ".py",
   "mimetype": "text/x-python",
   "name": "python",
   "nbconvert_exporter": "python",
   "pygments_lexer": "ipython3",
   "version": "3.7.3"
  }
 },
 "nbformat": 4,
 "nbformat_minor": 2
}
